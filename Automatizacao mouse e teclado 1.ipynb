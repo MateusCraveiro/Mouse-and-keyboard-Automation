{
 "cells": [
  {
   "cell_type": "markdown",
   "id": "3519a3bb",
   "metadata": {},
   "source": [
    "# Instruções \n",
    "\n",
    "## Ajustar Usuario\n",
    "## Fechar barra de Downloads caso aberta\n",
    "## Fechar pasta downloads caso aberta\n",
    "## Alterar caminhos do arquivo para sua área de trabalho\n",
    "## Criar pasta na área de trabalho com nome \"tratamento_sourei\""
   ]
  },
  {
   "cell_type": "markdown",
   "id": "160ec596",
   "metadata": {},
   "source": [
    "## Pontos de atenção\n",
    "\n",
    "-Tempo de carregamento do sourei... esperar carregar para colocar a data\n",
    "-Atenção ao zoom da tela (eu utilizo 75%). \n",
    "-Ajustar posição x e y de do pag.click caso for necessário. (utilizar comando pag.position comentado)\n",
    "-Não pode ter arquivos com mesmo nome na pasta downloads"
   ]
  },
  {
   "cell_type": "markdown",
   "id": "88755f54",
   "metadata": {},
   "source": [
    "## Rodar o script (Cell -> Run all)"
   ]
  },
  {
   "cell_type": "code",
   "execution_count": 1,
   "id": "78b2b2bf",
   "metadata": {},
   "outputs": [
    {
     "name": "stdout",
     "output_type": "stream",
     "text": [
      "Requirement already satisfied: pyautogui in c:\\users\\mateus.craveiro\\anaconda3\\lib\\site-packages (0.9.53)\n",
      "Requirement already satisfied: pyscreeze>=0.1.21 in c:\\users\\mateus.craveiro\\anaconda3\\lib\\site-packages (from pyautogui) (0.1.28)\n",
      "Requirement already satisfied: pymsgbox in c:\\users\\mateus.craveiro\\anaconda3\\lib\\site-packages (from pyautogui) (1.0.9)\n",
      "Requirement already satisfied: mouseinfo in c:\\users\\mateus.craveiro\\anaconda3\\lib\\site-packages (from pyautogui) (0.1.3)\n",
      "Requirement already satisfied: PyTweening>=1.0.1 in c:\\users\\mateus.craveiro\\anaconda3\\lib\\site-packages (from pyautogui) (1.0.4)\n",
      "Requirement already satisfied: pygetwindow>=0.0.5 in c:\\users\\mateus.craveiro\\anaconda3\\lib\\site-packages (from pyautogui) (0.0.9)\n",
      "Requirement already satisfied: pyrect in c:\\users\\mateus.craveiro\\anaconda3\\lib\\site-packages (from pygetwindow>=0.0.5->pyautogui) (0.2.0)\n",
      "Requirement already satisfied: pyperclip in c:\\users\\mateus.craveiro\\anaconda3\\lib\\site-packages (from mouseinfo->pyautogui) (1.8.2)\n"
     ]
    }
   ],
   "source": [
    "#Importando bibliotecas\n",
    "\n",
    "import pandas as pd\n",
    "import numpy as np\n",
    "import matplotlib.pyplot as plt \n",
    "import os.path\n",
    "!pip install pyautogui\n",
    "import pyautogui as pag\n",
    "import time\n",
    "from datetime import datetime"
   ]
  },
  {
   "cell_type": "markdown",
   "id": "b0b7aaa4",
   "metadata": {},
   "source": [
    "O comando abaixo espera 5s e depois aponta a posição na tela. É bastante útil para definir o x e y no comando  \"pag.click\""
   ]
  },
  {
   "cell_type": "markdown",
   "id": "a398d2b8",
   "metadata": {},
   "source": [
    "Pausa entre cada ação pag"
   ]
  },
  {
   "cell_type": "code",
   "execution_count": 2,
   "id": "40abd15f",
   "metadata": {},
   "outputs": [],
   "source": [
    "Usuario = 'mateus.craveiro' #Ajustar Usuario conforme nome cadastrado no desktop"
   ]
  },
  {
   "cell_type": "code",
   "execution_count": 3,
   "id": "e465349a",
   "metadata": {},
   "outputs": [],
   "source": [
    "pag.PAUSE = 1.5"
   ]
  },
  {
   "cell_type": "code",
   "execution_count": 4,
   "id": "50d218cc",
   "metadata": {},
   "outputs": [],
   "source": [
    "#Abrindo site\n",
    "\n",
    "pag.hotkey('ctrl', 't')\n",
    "pag.write('https://datastudio.google.com/u/0/reporting/b16d44dc-a8a5-46a0-bdf6-e9ac51ca2269/page/p_l61u4666uc')\n",
    "pag.press('enter')"
   ]
  },
  {
   "cell_type": "code",
   "execution_count": 5,
   "id": "ced64478",
   "metadata": {},
   "outputs": [
    {
     "data": {
      "text/plain": [
       "Point(x=448, y=184)"
      ]
     },
     "execution_count": 5,
     "metadata": {},
     "output_type": "execute_result"
    }
   ],
   "source": [
    "time.sleep(5)\n",
    "pag.position()\n",
    "\n",
    "#dia_novo = 20221025"
   ]
  },
  {
   "cell_type": "markdown",
   "id": "7d589f0b",
   "metadata": {},
   "source": [
    "###### "
   ]
  },
  {
   "cell_type": "code",
   "execution_count": 6,
   "id": "ec3f86ad",
   "metadata": {},
   "outputs": [
    {
     "name": "stdout",
     "output_type": "stream",
     "text": [
      "Coloque a data do relatório AAAAMMDD: 20221117\n"
     ]
    }
   ],
   "source": [
    "#Importando relatório do Sourei\n",
    "\n",
    "dia_novo = input('Coloque a data do relatório AAAAMMDD: ')\n",
    "pag.hotkey('ctrl','tab')\n",
    "pag.click(x=403, y=321)\n",
    "pag.click(x=593, y=304)\n",
    "pag.click(x=637, y=361)\n",
    "pag.click(x=813, y=528)\n",
    "time.sleep(2)\n",
    "pag.click(x=923, y=375)\n",
    "pag.click(x=1112, y=307)\n",
    "pag.click(x=1125, y=359)\n",
    "pag.click(x=805, y=498)\n",
    "\n",
    "#Funil\n",
    "#pag.click(x=673, y=96)\n",
    "#time.sleep(8)\n",
    "#pag.click(x=611, y=407)\n",
    "#pag.click(x=1171, y=258)\n",
    "#pag.click(x=1197, y=307)\n",
    "#pag.click(x=797, y=500)\n",
    "\n",
    "#Funil\n",
    "time.sleep(2)\n",
    "pag.click(x=673, y=96)\n",
    "time.sleep(8)\n",
    "pag.click(x=611, y=407)\n",
    "pag.click(x=1208, y=264)\n",
    "pag.click(x=1230, y=321)\n",
    "pag.click(x=808, y=498)\n",
    "\n",
    "#Renomeando arquivo\n",
    "time.sleep(4)\n",
    "pag.click(x=137, y=757)\n",
    "pag.write('downloads')\n",
    "pag.press('enter')\n",
    "pag.hotkey('ctrl','w')\n",
    "pag.click(x=137, y=757)\n",
    "pag.write('downloads')\n",
    "pag.press('enter')\n",
    "pag.press('down')\n",
    "pag.press('down')\n",
    "pag.press('F2')\n",
    "pag.write('Fluxo {}'.format(dia_novo))\n",
    "pag.press('enter')\n",
    "pag.press('up')\n",
    "pag.press('F2')\n",
    "pag.write('Receita {}'.format(dia_novo))\n",
    "pag.press('enter')\n",
    "pag.press('up')\n",
    "pag.press('F2')\n",
    "pag.write('Funil_{}'.format(dia_novo))\n",
    "pag.press('enter')\n",
    "pag.hotkey('ctrl','w')"
   ]
  },
  {
   "cell_type": "code",
   "execution_count": 7,
   "id": "99636ed4",
   "metadata": {},
   "outputs": [
    {
     "name": "stdout",
     "output_type": "stream",
     "text": [
      "Selecione no relatório a data antiga e coloque aqui AAAAMMDD: 20211118\n"
     ]
    }
   ],
   "source": [
    "dia_antigo = input('Selecione no relatório a data antiga e coloque aqui AAAAMMDD: ')\n",
    "pag.hotkey('ctrl','tab')\n",
    "pag.click(x=403, y=321)\n",
    "pag.click(x=593, y=304)\n",
    "pag.click(x=637, y=361)\n",
    "pag.click(x=806, y=493)\n",
    "time.sleep(2)\n",
    "pag.click(x=923, y=375)\n",
    "pag.click(x=1112, y=307)\n",
    "pag.click(x=1125, y=359)\n",
    "pag.click(x=805, y=498)\n",
    "#pag.click(x=673, y=96)\n",
    "#time.sleep(8)\n",
    "#pag.click(x=611, y=407)\n",
    "#pag.click(x=1171, y=258)\n",
    "#pag.click(x=1197, y=307)\n",
    "#pag.click(x=797, y=500)\n",
    "\n",
    "#Renomeando arquivo\n",
    "\n",
    "\n",
    "\n",
    "\n",
    "time.sleep(4)\n",
    "pag.click(x=137, y=757)\n",
    "pag.write('downloads')\n",
    "pag.press('enter')\n",
    "pag.hotkey('ctrl','w')\n",
    "pag.click(x=137, y=757)\n",
    "pag.write('downloads')\n",
    "pag.press('enter')\n",
    "pag.press('down')\n",
    "#pag.press('down')\n",
    "pag.press('F2')\n",
    "pag.write('Fluxo {}'.format(dia_antigo))\n",
    "pag.press('enter')\n",
    "pag.press('up')\n",
    "pag.press('F2')\n",
    "pag.write('Receita {}'.format(dia_antigo))\n",
    "pag.press('enter')\n",
    "#pag.press('up')\n",
    "#pag.press('F2')\n",
    "#pag.write('Funil_{}'.format(dia_antigo))\n",
    "#pag.press('enter')\n",
    "pag.hotkey('ctrl','w')"
   ]
  },
  {
   "cell_type": "code",
   "execution_count": 8,
   "id": "e05ea63a",
   "metadata": {},
   "outputs": [],
   "source": [
    "#Leitura dos arquivos\n",
    "df_fluxo_novo = pd.read_csv(r'C:\\Users\\{}\\Downloads\\Fluxo {}.csv'.format(Usuario, dia_novo))\n",
    "df_receita_novo = pd.read_csv(r'C:\\Users\\{}\\Downloads\\Receita {}.csv'.format(Usuario, dia_novo))\n",
    "df_fluxo_antigo = pd.read_csv(r'C:\\Users\\{}\\Downloads\\Fluxo {}.csv'.format(Usuario, dia_antigo))\n",
    "df_receita_antigo = pd.read_csv(r'C:\\Users\\{}\\Downloads\\Receita {}.csv'.format(Usuario, dia_antigo))\n",
    "#df_funil_antigo = pd.read_csv(r'C:\\Users\\{}\\Downloads\\Funil_{}.csv'.format(Usuario, dia_antigo))\n",
    "df_funil_novo = pd.read_csv(r'C:\\Users\\{}\\Downloads\\Funil_{}.csv'.format(Usuario, dia_novo))"
   ]
  },
  {
   "cell_type": "code",
   "execution_count": 9,
   "id": "253b703b",
   "metadata": {},
   "outputs": [],
   "source": [
    "#dia_novo = str(dia_novo)\n",
    "#dia_antigo = \"20211102\""
   ]
  },
  {
   "cell_type": "code",
   "execution_count": 10,
   "id": "4365a7c4",
   "metadata": {},
   "outputs": [],
   "source": [
    "#Inserindo a data\n",
    "\n",
    "data_nova = datetime.strptime(dia_novo, '%Y%m%d').strftime('%d/%m/%Y')\n",
    "data_antiga = datetime.strptime(dia_antigo, '%Y%m%d').strftime('%d/%m/%Y')\n",
    "df_receita_novo.insert(loc=0,column = 'Data', value = data_nova)\n",
    "df_receita_antigo.insert(loc=0,column = 'Data', value = data_antiga)\n",
    "df_fluxo_novo.insert(loc=0,column = 'Data', value = data_nova)\n",
    "df_fluxo_antigo.insert(loc=0,column = 'Data', value = data_antiga)\n",
    "df_funil_novo.insert(loc=0,column = 'Data', value = data_nova)\n",
    "#df_funil_antigo.insert(loc=0,column = 'Data', value = data_antiga)\n",
    "\n",
    "#Concatenando os arquivos\n",
    "df_receita= pd.concat([df_receita_novo, df_receita_antigo],ignore_index=True)\n",
    "df_fluxo = pd.concat([df_fluxo_novo, df_fluxo_antigo],ignore_index=True)\n",
    "#df_funil = pd.concat([df_funil_novo, df_funil_antigo],ignore_index=True)\n",
    "df_funil = df_funil_novo.copy()"
   ]
  },
  {
   "cell_type": "code",
   "execution_count": 11,
   "id": "a4ece355",
   "metadata": {},
   "outputs": [],
   "source": [
    "#Exportando para área de trabalho!\n",
    "\n",
    "df_fluxo.to_excel(r'\\\\10.25.70.5\\Comitês\\3 - Relatórios Diários\\1 - Relatório de Vendas\\auxiliar\\Import_Sourei\\Fluxo {}.xlsx'.format(dia_novo), index = False)\n",
    "df_receita.to_excel(r'\\\\10.25.70.5\\Comitês\\3 - Relatórios Diários\\1 - Relatório de Vendas\\auxiliar\\Import_Sourei\\Receita {}.xlsx'.format(dia_novo), index = False)\n",
    "df_funil.to_excel(r'\\\\10.25.70.5\\Comitês\\3 - Relatórios Diários\\1 - Relatório de Vendas\\auxiliar\\Import_Sourei\\Funil {}.xlsx'.format(dia_novo), index = False)"
   ]
  },
  {
   "cell_type": "markdown",
   "id": "c9f9328e",
   "metadata": {},
   "source": [
    "Alterar o caminho na área acima"
   ]
  },
  {
   "cell_type": "markdown",
   "id": "cc601fb2",
   "metadata": {},
   "source": [
    "# "
   ]
  }
 ],
 "metadata": {
  "kernelspec": {
   "display_name": "Python 3 (ipykernel)",
   "language": "python",
   "name": "python3"
  },
  "language_info": {
   "codemirror_mode": {
    "name": "ipython",
    "version": 3
   },
   "file_extension": ".py",
   "mimetype": "text/x-python",
   "name": "python",
   "nbconvert_exporter": "python",
   "pygments_lexer": "ipython3",
   "version": "3.9.12"
  }
 },
 "nbformat": 4,
 "nbformat_minor": 5
}
