{
 "cells": [
  {
   "cell_type": "code",
   "execution_count": 1,
   "id": "16346df4",
   "metadata": {},
   "outputs": [],
   "source": [
    "import pandas as pd\n",
    "import pyautogui as pag\n",
    "import time\n",
    "from datetime import datetime"
   ]
  },
  {
   "cell_type": "code",
   "execution_count": 2,
   "id": "47e70a6d",
   "metadata": {},
   "outputs": [],
   "source": [
    "pag.PAUSE = 1"
   ]
  },
  {
   "cell_type": "code",
   "execution_count": 3,
   "id": "388119cd",
   "metadata": {},
   "outputs": [
    {
     "name": "stdout",
     "output_type": "stream",
     "text": [
      "Digite o MOV de hoje: AAAAMMDD20221118\n"
     ]
    }
   ],
   "source": [
    "MOV_hoje = input('Digite o MOV de hoje: AAAAMMDD')"
   ]
  },
  {
   "cell_type": "code",
   "execution_count": 4,
   "id": "907d0bb2",
   "metadata": {},
   "outputs": [
    {
     "name": "stdout",
     "output_type": "stream",
     "text": [
      "Depois que extrair digite enter\n"
     ]
    },
    {
     "data": {
      "text/plain": [
       "''"
      ]
     },
     "execution_count": 4,
     "metadata": {},
     "output_type": "execute_result"
    }
   ],
   "source": [
    "#Extração do arquivo e ajuste nome:\n",
    "\n",
    "#MOV_hoje = input('Digite o MOV de hoje: AAAAMMDD')\n",
    "pag.click(x=251, y=753)\n",
    "pag.write('downloads')\n",
    "pag.press('enter')\n",
    "pag.hotkey('ctrl','w')\n",
    "pag.click(x=251, y=753)\n",
    "pag.write('downloads')\n",
    "pag.press('enter')\n",
    "pag.press('down')\n",
    "pag.press('up')\n",
    "pag.press('enter')\n",
    "time.sleep(2)\n",
    "pag.press('esc')\n",
    "pag.press('down')\n",
    "pag.hotkey('alt','e') #Extrair para\n",
    "pag.write(r'\\\\rede_da_empresa\\1 - Relatório de Vendas\\auxiliar\\Import_Vtex')\n",
    "pag.press('enter')\n",
    "time.sleep(5)\n",
    "pag.press('enter')\n",
    "input('Depois que extrair digite enter')\n",
    "#pag.hotkey('ctrl','w')"
   ]
  },
  {
   "cell_type": "code",
   "execution_count": 5,
   "id": "fd7c1d85",
   "metadata": {},
   "outputs": [
    {
     "name": "stderr",
     "output_type": "stream",
     "text": [
      "C:\\Users\\mateus.craveiro\\AppData\\Local\\Temp\\ipykernel_10588\\1022969335.py:2: DtypeWarning: Columns (72,73) have mixed types. Specify dtype option on import or set low_memory=False.\n",
      "  df = pd.read_csv(r'\\\\10.25.70.5\\Comitês\\3 - Relatórios Diários\\1 - Relatório de Vendas\\auxiliar\\Import_Vtex\\Report.csv',sep = \";\", dtype = ({\n"
     ]
    }
   ],
   "source": [
    "#Leitura do arquivo, exclusao colunas inuteis\n",
    "df = pd.read_csv(r'\\\\rede_da_empresa\\1 - Relatório de Vendas\\auxiliar\\Import_Vtex\\Report.csv',sep = \";\", dtype = ({\n",
    "    'UF':'category' , 'City':'category' , 'Adress type':'category',\n",
    "    'SLA Type':'category' , 'Courrier':'category', 'Delivery Deadline':'category',\n",
    "    'Status':'category' , 'Payment System Name':'category', 'Installments':'category',\n",
    "    'Category Ids Sku':'category' , 'Seller Name':'category', 'Currency Code':'category',\n",
    "    'Country':'category' , 'Obs':'category', 'UtmiCampaign':'category',\n",
    "    'Corporate Name':'category', 'Is Marketplace cetified':'category','Delivered':'bool',\n",
    "    'Client Document' : 'string','Phone' : 'string'\n",
    "        }))\n",
    "\n",
    "df = df.drop(columns = ['Cancellation Data','Status raw value (temporary)'])\n",
    "\n",
    "#Tratamento Datas\n",
    "df['Data'] = df['Creation Date']\n",
    "df['Data'] = df['Creation Date'].str[:10]        #Primeiros 10 digitos - DATA\n",
    "df['Hora'] = df['Creation Date'].str[11:]        #Ultimos 11 digitos - HORA\n",
    "df['Hora'] = df['Hora'].str[:-1]                 #Exclusão \"Z\"\n",
    "df['Data'] = df['Data'].apply(lambda x: datetime.strptime(x, '%Y-%m-%d').strftime('%Y/%m/%d'))       #Convertendo para o formato com /\n",
    "df['Data'] = pd.to_datetime(df['Data'])\n",
    "df = df.sort_values(by='Creation Date')          #Ordenando pela Data"
   ]
  },
  {
   "cell_type": "code",
   "execution_count": 6,
   "id": "9bae6300",
   "metadata": {},
   "outputs": [],
   "source": [
    "#Exportando para área de trabalho! ajustar o caminho caso necessário.\n",
    "\n",
    "df.to_excel(r'\\\\rede_da_empresa\\1 - Relatório de Vendas\\auxiliar\\Import_Vtex\\Report_Tratado {}.xlsx'.format(MOV_hoje), index = False)"
   ]
  },
  {
   "cell_type": "code",
   "execution_count": 7,
   "id": "d391005b",
   "metadata": {},
   "outputs": [],
   "source": [
    "#Comando para descobrir as posicoes de x e y no pag.click:\n",
    "#time.sleep(5)\n",
    "#pag.position()"
   ]
  }
 ],
 "metadata": {
  "kernelspec": {
   "display_name": "Python 3 (ipykernel)",
   "language": "python",
   "name": "python3"
  },
  "language_info": {
   "codemirror_mode": {
    "name": "ipython",
    "version": 3
   },
   "file_extension": ".py",
   "mimetype": "text/x-python",
   "name": "python",
   "nbconvert_exporter": "python",
   "pygments_lexer": "ipython3",
   "version": "3.9.12"
  }
 },
 "nbformat": 4,
 "nbformat_minor": 5
}
